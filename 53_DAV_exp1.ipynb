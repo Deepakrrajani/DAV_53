{
  "nbformat": 4,
  "nbformat_minor": 0,
  "metadata": {
    "colab": {
      "provenance": []
    },
    "kernelspec": {
      "name": "ir",
      "display_name": "R"
    },
    "language_info": {
      "name": "R"
    }
  },
  "cells": [
    {
      "cell_type": "markdown",
      "source": [
        "NumPy\n",
        "NumPy is a Python library used for working with arrays. It also has functions for working in domain of linear algebra, fourier transform, and matrices."
      ],
      "metadata": {
        "id": "E8-Vb8mz6at8"
      }
    },
    {
      "cell_type": "code",
      "execution_count": 15,
      "metadata": {
        "colab": {
          "base_uri": "https://localhost:8080/"
        },
        "id": "NI1j48md3r3d",
        "outputId": "20129182-0822-4590-874b-df99c8e836ec"
      },
      "outputs": [
        {
          "output_type": "stream",
          "name": "stdout",
          "text": [
            "[6 5 4 3 1 2]\n",
            "[[6 5]\n",
            " [4 3]\n",
            " [1 2]]\n"
          ]
        }
      ],
      "source": [
        "import numpy as np, random\n",
        "\n",
        "arr = np.array([1, 2, 3, 4, 5,6])\n",
        "a=arr.reshape(3,2)\n",
        "random.shuffle(arr)\n",
        "print(arr)\n",
        "\n",
        "\n",
        "print(a)"
      ]
    },
    {
      "cell_type": "markdown",
      "source": [
        "Pandas:\n",
        "Pandas is a Python library used for working with data sets. It has functions for analyzing, cleaning, exploring, and manipulating data."
      ],
      "metadata": {
        "id": "ZS6fGm2a7UY0"
      }
    },
    {
      "cell_type": "code",
      "source": [
        "import pandas as pd\n",
        "\n",
        "df=pd.read_csv('/content/sample_data/california_housing_test.csv')\n",
        "print(df.head())"
      ],
      "metadata": {
        "colab": {
          "base_uri": "https://localhost:8080/"
        },
        "id": "wrhWzF887NIE",
        "outputId": "e048507a-c62b-4d52-9ef3-3f9f3ad91c49"
      },
      "execution_count": 19,
      "outputs": [
        {
          "output_type": "stream",
          "name": "stdout",
          "text": [
            "   longitude  latitude  housing_median_age  total_rooms  total_bedrooms  \\\n",
            "0    -122.05     37.37                27.0       3885.0           661.0   \n",
            "1    -118.30     34.26                43.0       1510.0           310.0   \n",
            "2    -117.81     33.78                27.0       3589.0           507.0   \n",
            "3    -118.36     33.82                28.0         67.0            15.0   \n",
            "4    -119.67     36.33                19.0       1241.0           244.0   \n",
            "\n",
            "   population  households  median_income  median_house_value  \n",
            "0      1537.0       606.0         6.6085            344700.0  \n",
            "1       809.0       277.0         3.5990            176500.0  \n",
            "2      1484.0       495.0         5.7934            270500.0  \n",
            "3        49.0        11.0         6.1359            330000.0  \n",
            "4       850.0       237.0         2.9375             81700.0  \n"
          ]
        }
      ]
    },
    {
      "cell_type": "markdown",
      "source": [
        "dplyr:\n",
        "dplyr is a grammar of data manipulation, providing a consistent set of verbs that help you solve the most common data manipulation challenges:"
      ],
      "metadata": {
        "id": "9BIg5_Fz8C1M"
      }
    },
    {
      "cell_type": "code",
      "source": [
        "\n",
        "library(dplyr)\n",
        "\n",
        "\n",
        "starwars %>%\n",
        "  filter(homeworld\t == \"Naboo\")\n",
        "\n",
        "\n"
      ],
      "metadata": {
        "colab": {
          "base_uri": "https://localhost:8080/",
          "height": 773
        },
        "id": "LqxcbHeC8rhz",
        "outputId": "b246fc51-770c-4b54-fe32-b8c2612d0090"
      },
      "execution_count": 11,
      "outputs": [
        {
          "output_type": "display_data",
          "data": {
            "text/html": [
              "<table class=\"dataframe\">\n",
              "<caption>A tibble: 11 × 14</caption>\n",
              "<thead>\n",
              "\t<tr><th scope=col>name</th><th scope=col>height</th><th scope=col>mass</th><th scope=col>hair_color</th><th scope=col>skin_color</th><th scope=col>eye_color</th><th scope=col>birth_year</th><th scope=col>sex</th><th scope=col>gender</th><th scope=col>homeworld</th><th scope=col>species</th><th scope=col>films</th><th scope=col>vehicles</th><th scope=col>starships</th></tr>\n",
              "\t<tr><th scope=col>&lt;chr&gt;</th><th scope=col>&lt;int&gt;</th><th scope=col>&lt;dbl&gt;</th><th scope=col>&lt;chr&gt;</th><th scope=col>&lt;chr&gt;</th><th scope=col>&lt;chr&gt;</th><th scope=col>&lt;dbl&gt;</th><th scope=col>&lt;chr&gt;</th><th scope=col>&lt;chr&gt;</th><th scope=col>&lt;chr&gt;</th><th scope=col>&lt;chr&gt;</th><th scope=col>&lt;list&gt;</th><th scope=col>&lt;list&gt;</th><th scope=col>&lt;list&gt;</th></tr>\n",
              "</thead>\n",
              "<tbody>\n",
              "\t<tr><td>R2-D2        </td><td> 96</td><td>32</td><td>NA   </td><td>white, blue</td><td>red   </td><td>33</td><td>none  </td><td>masculine</td><td>Naboo</td><td>Droid </td><td>A New Hope             , The Empire Strikes Back, Return of the Jedi     , The Phantom Menace     , Attack of the Clones   , Revenge of the Sith    , The Force Awakens      </td><td></td><td></td></tr>\n",
              "\t<tr><td>Palpatine    </td><td>170</td><td>75</td><td>grey </td><td>pale       </td><td>yellow</td><td>82</td><td>male  </td><td>masculine</td><td>Naboo</td><td>Human </td><td>The Empire Strikes Back, Return of the Jedi     , The Phantom Menace     , Attack of the Clones   , Revenge of the Sith    </td><td></td><td></td></tr>\n",
              "\t<tr><td>Padmé Amidala</td><td>185</td><td>45</td><td>brown</td><td>light      </td><td>brown </td><td>46</td><td>female</td><td>feminine </td><td>Naboo</td><td>Human </td><td>The Phantom Menace  , Attack of the Clones, Revenge of the Sith </td><td></td><td>Naboo fighter      , H-type Nubian yacht, Naboo star skiff   </td></tr>\n",
              "\t<tr><td>Jar Jar Binks</td><td>196</td><td>66</td><td>none </td><td>orange     </td><td>orange</td><td>52</td><td>male  </td><td>masculine</td><td>Naboo</td><td>Gungan</td><td>The Phantom Menace  , Attack of the Clones</td><td></td><td></td></tr>\n",
              "\t<tr><td>Roos Tarpals </td><td>224</td><td>82</td><td>none </td><td>grey       </td><td>orange</td><td>NA</td><td>male  </td><td>masculine</td><td>Naboo</td><td>Gungan</td><td>The Phantom Menace</td><td></td><td></td></tr>\n",
              "\t<tr><td>Rugor Nass   </td><td>206</td><td>NA</td><td>none </td><td>green      </td><td>orange</td><td>NA</td><td>male  </td><td>masculine</td><td>Naboo</td><td>Gungan</td><td>The Phantom Menace</td><td></td><td></td></tr>\n",
              "\t<tr><td>Ric Olié     </td><td>183</td><td>NA</td><td>brown</td><td>fair       </td><td>blue  </td><td>NA</td><td>male  </td><td>masculine</td><td>Naboo</td><td>Human </td><td>The Phantom Menace</td><td></td><td>Naboo Royal Starship</td></tr>\n",
              "\t<tr><td>Quarsh Panaka</td><td>183</td><td>NA</td><td>black</td><td>dark       </td><td>brown </td><td>62</td><td>male  </td><td>masculine</td><td>Naboo</td><td>Human </td><td>The Phantom Menace</td><td></td><td></td></tr>\n",
              "\t<tr><td>Gregar Typho </td><td>185</td><td>85</td><td>black</td><td>dark       </td><td>brown </td><td>NA</td><td>NA    </td><td>NA       </td><td>Naboo</td><td>NA    </td><td>Attack of the Clones</td><td></td><td>Naboo fighter</td></tr>\n",
              "\t<tr><td>Cordé        </td><td>157</td><td>NA</td><td>brown</td><td>light      </td><td>brown </td><td>NA</td><td>NA    </td><td>NA       </td><td>Naboo</td><td>NA    </td><td>Attack of the Clones</td><td></td><td></td></tr>\n",
              "\t<tr><td>Dormé        </td><td>165</td><td>NA</td><td>brown</td><td>light      </td><td>brown </td><td>NA</td><td>female</td><td>feminine </td><td>Naboo</td><td>Human </td><td>Attack of the Clones</td><td></td><td></td></tr>\n",
              "</tbody>\n",
              "</table>\n"
            ],
            "text/markdown": "\nA tibble: 11 × 14\n\n| name &lt;chr&gt; | height &lt;int&gt; | mass &lt;dbl&gt; | hair_color &lt;chr&gt; | skin_color &lt;chr&gt; | eye_color &lt;chr&gt; | birth_year &lt;dbl&gt; | sex &lt;chr&gt; | gender &lt;chr&gt; | homeworld &lt;chr&gt; | species &lt;chr&gt; | films &lt;list&gt; | vehicles &lt;list&gt; | starships &lt;list&gt; |\n|---|---|---|---|---|---|---|---|---|---|---|---|---|---|\n| R2-D2         |  96 | 32 | NA    | white, blue | red    | 33 | none   | masculine | Naboo | Droid  | A New Hope             , The Empire Strikes Back, Return of the Jedi     , The Phantom Menace     , Attack of the Clones   , Revenge of the Sith    , The Force Awakens       | <!----> | <!----> |\n| Palpatine     | 170 | 75 | grey  | pale        | yellow | 82 | male   | masculine | Naboo | Human  | The Empire Strikes Back, Return of the Jedi     , The Phantom Menace     , Attack of the Clones   , Revenge of the Sith     | <!----> | <!----> |\n| Padmé Amidala | 185 | 45 | brown | light       | brown  | 46 | female | feminine  | Naboo | Human  | The Phantom Menace  , Attack of the Clones, Revenge of the Sith  | <!----> | Naboo fighter      , H-type Nubian yacht, Naboo star skiff    |\n| Jar Jar Binks | 196 | 66 | none  | orange      | orange | 52 | male   | masculine | Naboo | Gungan | The Phantom Menace  , Attack of the Clones | <!----> | <!----> |\n| Roos Tarpals  | 224 | 82 | none  | grey        | orange | NA | male   | masculine | Naboo | Gungan | The Phantom Menace | <!----> | <!----> |\n| Rugor Nass    | 206 | NA | none  | green       | orange | NA | male   | masculine | Naboo | Gungan | The Phantom Menace | <!----> | <!----> |\n| Ric Olié      | 183 | NA | brown | fair        | blue   | NA | male   | masculine | Naboo | Human  | The Phantom Menace | <!----> | Naboo Royal Starship |\n| Quarsh Panaka | 183 | NA | black | dark        | brown  | 62 | male   | masculine | Naboo | Human  | The Phantom Menace | <!----> | <!----> |\n| Gregar Typho  | 185 | 85 | black | dark        | brown  | NA | NA     | NA        | Naboo | NA     | Attack of the Clones | <!----> | Naboo fighter |\n| Cordé         | 157 | NA | brown | light       | brown  | NA | NA     | NA        | Naboo | NA     | Attack of the Clones | <!----> | <!----> |\n| Dormé         | 165 | NA | brown | light       | brown  | NA | female | feminine  | Naboo | Human  | Attack of the Clones | <!----> | <!----> |\n\n",
            "text/latex": "A tibble: 11 × 14\n\\begin{tabular}{llllllllllllll}\n name & height & mass & hair\\_color & skin\\_color & eye\\_color & birth\\_year & sex & gender & homeworld & species & films & vehicles & starships\\\\\n <chr> & <int> & <dbl> & <chr> & <chr> & <chr> & <dbl> & <chr> & <chr> & <chr> & <chr> & <list> & <list> & <list>\\\\\n\\hline\n\t R2-D2         &  96 & 32 & NA    & white, blue & red    & 33 & none   & masculine & Naboo & Droid  & A New Hope             , The Empire Strikes Back, Return of the Jedi     , The Phantom Menace     , Attack of the Clones   , Revenge of the Sith    , The Force Awakens       &  & \\\\\n\t Palpatine     & 170 & 75 & grey  & pale        & yellow & 82 & male   & masculine & Naboo & Human  & The Empire Strikes Back, Return of the Jedi     , The Phantom Menace     , Attack of the Clones   , Revenge of the Sith     &  & \\\\\n\t Padmé Amidala & 185 & 45 & brown & light       & brown  & 46 & female & feminine  & Naboo & Human  & The Phantom Menace  , Attack of the Clones, Revenge of the Sith  &  & Naboo fighter      , H-type Nubian yacht, Naboo star skiff   \\\\\n\t Jar Jar Binks & 196 & 66 & none  & orange      & orange & 52 & male   & masculine & Naboo & Gungan & The Phantom Menace  , Attack of the Clones &  & \\\\\n\t Roos Tarpals  & 224 & 82 & none  & grey        & orange & NA & male   & masculine & Naboo & Gungan & The Phantom Menace &  & \\\\\n\t Rugor Nass    & 206 & NA & none  & green       & orange & NA & male   & masculine & Naboo & Gungan & The Phantom Menace &  & \\\\\n\t Ric Olié      & 183 & NA & brown & fair        & blue   & NA & male   & masculine & Naboo & Human  & The Phantom Menace &  & Naboo Royal Starship\\\\\n\t Quarsh Panaka & 183 & NA & black & dark        & brown  & 62 & male   & masculine & Naboo & Human  & The Phantom Menace &  & \\\\\n\t Gregar Typho  & 185 & 85 & black & dark        & brown  & NA & NA     & NA        & Naboo & NA     & Attack of the Clones &  & Naboo fighter\\\\\n\t Cordé         & 157 & NA & brown & light       & brown  & NA & NA     & NA        & Naboo & NA     & Attack of the Clones &  & \\\\\n\t Dormé         & 165 & NA & brown & light       & brown  & NA & female & feminine  & Naboo & Human  & Attack of the Clones &  & \\\\\n\\end{tabular}\n",
            "text/plain": [
              "   name          height mass hair_color skin_color  eye_color birth_year sex   \n",
              "1  R2-D2          96    32   NA         white, blue red       33         none  \n",
              "2  Palpatine     170    75   grey       pale        yellow    82         male  \n",
              "3  Padmé Amidala 185    45   brown      light       brown     46         female\n",
              "4  Jar Jar Binks 196    66   none       orange      orange    52         male  \n",
              "5  Roos Tarpals  224    82   none       grey        orange    NA         male  \n",
              "6  Rugor Nass    206    NA   none       green       orange    NA         male  \n",
              "7  Ric Olié      183    NA   brown      fair        blue      NA         male  \n",
              "8  Quarsh Panaka 183    NA   black      dark        brown     62         male  \n",
              "9  Gregar Typho  185    85   black      dark        brown     NA         NA    \n",
              "10 Cordé         157    NA   brown      light       brown     NA         NA    \n",
              "11 Dormé         165    NA   brown      light       brown     NA         female\n",
              "   gender    homeworld species\n",
              "1  masculine Naboo     Droid  \n",
              "2  masculine Naboo     Human  \n",
              "3  feminine  Naboo     Human  \n",
              "4  masculine Naboo     Gungan \n",
              "5  masculine Naboo     Gungan \n",
              "6  masculine Naboo     Gungan \n",
              "7  masculine Naboo     Human  \n",
              "8  masculine Naboo     Human  \n",
              "9  NA        Naboo     NA     \n",
              "10 NA        Naboo     NA     \n",
              "11 feminine  Naboo     Human  \n",
              "   films                                                                                                                                                                        \n",
              "1  A New Hope             , The Empire Strikes Back, Return of the Jedi     , The Phantom Menace     , Attack of the Clones   , Revenge of the Sith    , The Force Awakens      \n",
              "2  The Empire Strikes Back, Return of the Jedi     , The Phantom Menace     , Attack of the Clones   , Revenge of the Sith                                                      \n",
              "3  The Phantom Menace  , Attack of the Clones, Revenge of the Sith                                                                                                              \n",
              "4  The Phantom Menace  , Attack of the Clones                                                                                                                                   \n",
              "5  The Phantom Menace                                                                                                                                                           \n",
              "6  The Phantom Menace                                                                                                                                                           \n",
              "7  The Phantom Menace                                                                                                                                                           \n",
              "8  The Phantom Menace                                                                                                                                                           \n",
              "9  Attack of the Clones                                                                                                                                                         \n",
              "10 Attack of the Clones                                                                                                                                                         \n",
              "11 Attack of the Clones                                                                                                                                                         \n",
              "   vehicles starships                                                    \n",
              "1                                                                        \n",
              "2                                                                        \n",
              "3           Naboo fighter      , H-type Nubian yacht, Naboo star skiff   \n",
              "4                                                                        \n",
              "5                                                                        \n",
              "6                                                                        \n",
              "7           Naboo Royal Starship                                         \n",
              "8                                                                        \n",
              "9           Naboo fighter                                                \n",
              "10                                                                       \n",
              "11                                                                       "
            ]
          },
          "metadata": {}
        }
      ]
    },
    {
      "cell_type": "markdown",
      "source": [
        "ggplot2:\n",
        "\n",
        "ggplot2 is a system for declaratively creating graphics, based on The Grammar of Graphics. You provide the data, tell ggplot2 how to map variables to aesthetics, what graphical primitives to use, and it takes care of the details."
      ],
      "metadata": {
        "id": "P_VKWNne9hqT"
      }
    },
    {
      "cell_type": "code",
      "source": [
        "library(ggplot2)\n",
        "ggplot(data = starwars, aes(x = mass, y = height)) +\n",
        "  geom_point() +\n",
        "  labs(title = \"height vs mass\",\n",
        "       x = \"Mass\",\n",
        "       y = \"Height\")"
      ],
      "metadata": {
        "colab": {
          "base_uri": "https://localhost:8080/",
          "height": 472
        },
        "id": "4ccW1Mks94nl",
        "outputId": "edc2d1fd-9631-40ed-8e2f-a8ed74d5588d"
      },
      "execution_count": 16,
      "outputs": [
        {
          "output_type": "stream",
          "name": "stderr",
          "text": [
            "Warning message:\n",
            "“\u001b[1m\u001b[22mRemoved 28 rows containing missing values (`geom_point()`).”\n"
          ]
        },
        {
          "output_type": "display_data",
          "data": {
            "text/plain": [
              "plot without title"
            ],
            "image/png": "[encoded data removed]"
          },
          "metadata": {
            "image/png": {
              "width": 420,
              "height": 420
            }
          }
        }
      ]
    }
  ]
}